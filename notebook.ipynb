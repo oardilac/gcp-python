{
 "cells": [
  {
   "cell_type": "code",
   "execution_count": 2,
   "id": "1c756533-cf1b-49ef-86c8-77dea65482ef",
   "metadata": {},
   "outputs": [],
   "source": [
    "from google.cloud import bigquery\n",
    "from google.cloud.exceptions import NotFound\n",
    "from sqlalchemy import create_engine\n",
    "import pandas as pd\n",
    "import os\n",
    "import json\n",
    "import mysql\n",
    "import mysql.connector as connection\n",
    "import sqlalchemy\n",
    "\n",
    "\n",
    "def get_engine():\n",
    "    db_config = mysql.connector.connect(\n",
    "        user=os.getenv('DB_USER'),\n",
    "        password=os.getenv('DB_PASSWORD'),\n",
    "        host=os.getenv('DB_HOST'),\n",
    "        database=os.getenv('DB_DATABASE')\n",
    "    )\n",
    "    \n",
    "    return db_config"
   ]
  },
  {
   "cell_type": "code",
   "execution_count": 3,
   "id": "abf7503c-b955-46e4-b4a1-06eda509db61",
   "metadata": {},
   "outputs": [],
   "source": [
    "def list_mysql_tables(request):\n",
    "    headers = {\n",
    "        'Access-Control-Allow-Origin': '*',\n",
    "        'Content-Type': 'application/json'\n",
    "    }\n",
    "    engine = get_engine()\n",
    "    query = '''\n",
    "        SELECT\n",
    "            table_schema\n",
    "            , table_name\n",
    "            , table_rows\n",
    "        FROM information_schema.tables\n",
    "        WHERE table_schema = \"github\" AND TABLE_TYPE = \"BASE TABLE\"\n",
    "    '''\n",
    "\n",
    "    result_dataframe = pd.read_sql(query, engine)\n",
    "    engine.close()\n",
    "    return (result_dataframe.to_json(orient='records'), 200)"
   ]
  },
  {
   "cell_type": "code",
   "execution_count": 4,
   "id": "071ee2f2-b344-4798-a50d-7b85d8367ba9",
   "metadata": {},
   "outputs": [
    {
     "name": "stderr",
     "output_type": "stream",
     "text": [
      "/var/tmp/ipykernel_7200/3391906181.py:12: UserWarning: pandas only supports SQLAlchemy connectable (engine/connection) or database string URI or sqlite3 DBAPI2 connection. Other DBAPI2 objects are not tested. Please consider using SQLAlchemy.\n",
      "  result_dataframe = pd.read_sql(query, engine)\n"
     ]
    },
    {
     "data": {
      "text/plain": [
       "('[{\"TABLE_SCHEMA\":\"github\",\"TABLE_NAME\":\"customers\",\"TABLE_ROWS\":122},{\"TABLE_SCHEMA\":\"github\",\"TABLE_NAME\":\"employees\",\"TABLE_ROWS\":23},{\"TABLE_SCHEMA\":\"github\",\"TABLE_NAME\":\"offices\",\"TABLE_ROWS\":7},{\"TABLE_SCHEMA\":\"github\",\"TABLE_NAME\":\"orderdetails\",\"TABLE_ROWS\":2996},{\"TABLE_SCHEMA\":\"github\",\"TABLE_NAME\":\"orders\",\"TABLE_ROWS\":326},{\"TABLE_SCHEMA\":\"github\",\"TABLE_NAME\":\"payments\",\"TABLE_ROWS\":273},{\"TABLE_SCHEMA\":\"github\",\"TABLE_NAME\":\"productlines\",\"TABLE_ROWS\":7},{\"TABLE_SCHEMA\":\"github\",\"TABLE_NAME\":\"products\",\"TABLE_ROWS\":110},{\"TABLE_SCHEMA\":\"github\",\"TABLE_NAME\":\"SalesTable\",\"TABLE_ROWS\":2850}]',\n",
       " 200)"
      ]
     },
     "execution_count": 4,
     "metadata": {},
     "output_type": "execute_result"
    }
   ],
   "source": [
    "class RequestArgsMock:\n",
    "    def __init__(self, **kwargs):\n",
    "        self.args = kwargs\n",
    "\n",
    "request = RequestArgsMock(cliente='128')\n",
    "list_mysql_tables(request)"
   ]
  },
  {
   "cell_type": "code",
   "execution_count": 5,
   "id": "0e5af15c-4d10-4cb8-86bf-02140ce2957f",
   "metadata": {},
   "outputs": [],
   "source": [
    "def copy_table_mysql_to_bigquery(request):\n",
    "    table_source = request.args['table_source']\n",
    "    table_destination = request.args['table_destination']\n",
    "    project_id = os.getenv('PROJECT_ID')\n",
    "    schema = os.getenv('SCHEMA')\n",
    "    table_id =  '{0}.{1}.{2}'.format(project_id, schema, table_destination)\n",
    "\n",
    "    headers = {\n",
    "      'Access-Control-Allow-Origin': '*',\n",
    "      'Content-Type': 'application/json'\n",
    "    }\n",
    "\n",
    "    if table_source.strip() == \"\" or table_destination.strip() == \"\":\n",
    "        return json.dumps({'result': 'error', 'description': 'no table name'})\n",
    "\n",
    "    engine = get_engine()\n",
    "    query = 'SELECT * FROM {0}'.format(table_source)\n",
    "    result_dataframe = pd.read_sql(query, engine)\n",
    "\n",
    "    client = bigquery.Client()\n",
    "\n",
    "    job_config = bigquery.LoadJobConfig(\n",
    "        write_disposition=\"WRITE_TRUNCATE\",\n",
    "    )\n",
    "\n",
    "    job = client.load_table_from_dataframe(\n",
    "        result_dataframe, table_id, job_config=job_config\n",
    "    )\n",
    "    job.result()\n",
    "\n",
    "    try:\n",
    "        client.get_table(table_id)\n",
    "    except NotFound:\n",
    "        return json.dumps({'result': 'error', 'description': 'table not found'})\n",
    "\n",
    "    return json.dumps({'result': 'ok'})"
   ]
  },
  {
   "cell_type": "code",
   "execution_count": 6,
   "id": "4b15bc81-ea31-45a8-9d20-5bf097e74892",
   "metadata": {},
   "outputs": [
    {
     "name": "stderr",
     "output_type": "stream",
     "text": [
      "/var/tmp/ipykernel_7200/3893684079.py:13: UserWarning: pandas only supports SQLAlchemy connectable (engine/connection) or database string URI or sqlite3 DBAPI2 connection. Other DBAPI2 objects are not tested. Please consider using SQLAlchemy.\n",
      "  result_dataframe = pd.read_sql(query, engine)\n"
     ]
    },
    {
     "data": {
      "text/plain": [
       "'{\"result\": \"ok\"}'"
      ]
     },
     "execution_count": 6,
     "metadata": {},
     "output_type": "execute_result"
    }
   ],
   "source": [
    "class RequestArgsMock:\n",
    "    def __init__(self, **kwargs):\n",
    "        self.args = kwargs\n",
    "\n",
    "request = RequestArgsMock(table_source='employees', table_destination='employees')\n",
    "copy_table_mysql_to_bigquery(request)"
   ]
  },
  {
   "cell_type": "code",
   "execution_count": 7,
   "id": "35aef59f-bdd7-40be-941f-cdbf59a0524d",
   "metadata": {},
   "outputs": [],
   "source": [
    "def get_rows_from_bigquery(request):\n",
    "    table_name = request.args['table_name']\n",
    "    project_id = 'chatmine-388722'\n",
    "    schema = 'co_dtkl'\n",
    "    table_id =  '{0}.{1}.{2}'.format(project_id, schema, table_name)\n",
    "\n",
    "    headers = {\n",
    "      'Access-Control-Allow-Origin': '*',\n",
    "      'Content-Type': 'application/json'\n",
    "    }\n",
    "\n",
    "    if table_name.strip() == \"\":\n",
    "        return json.dumps({'result': 'error', 'description': 'no table name'})\n",
    "\n",
    "    client = bigquery.Client()\n",
    "\n",
    "    try:\n",
    "        client.get_table(table_id)\n",
    "    except NotFound:\n",
    "        return json.dumps({'result': 'error', 'description': 'table not found'})\n",
    "\n",
    "    query = 'SELECT COUNT(*) filas FROM `{0}`.`{1}`'.format(schema, table_name)\n",
    "    query_job = client.query(query)\n",
    "    query_job.result()\n",
    "\n",
    "    rows = list(query_job)\n",
    "    return json.dumps({'result': 'ok', 'rows': rows[0].filas})"
   ]
  },
  {
   "cell_type": "code",
   "execution_count": 8,
   "id": "8352c1b0-595c-4a43-9634-d122a47467d4",
   "metadata": {},
   "outputs": [
    {
     "data": {
      "text/plain": [
       "'{\"result\": \"ok\", \"rows\": 23}'"
      ]
     },
     "execution_count": 8,
     "metadata": {},
     "output_type": "execute_result"
    }
   ],
   "source": [
    "class RequestArgsMock:\n",
    "    def __init__(self, **kwargs):\n",
    "        self.args = kwargs\n",
    "\n",
    "request = RequestArgsMock(table_name='employees')\n",
    "get_rows_from_bigquery(request)"
   ]
  }
 ],
 "metadata": {
  "environment": {
   "kernel": "python3",
   "name": "common-cpu.m108",
   "type": "gcloud",
   "uri": "gcr.io/deeplearning-platform-release/base-cpu:m108"
  },
  "kernelspec": {
   "display_name": "Python 3",
   "language": "python",
   "name": "python3"
  },
  "language_info": {
   "codemirror_mode": {
    "name": "ipython",
    "version": 3
   },
   "file_extension": ".py",
   "mimetype": "text/x-python",
   "name": "python",
   "nbconvert_exporter": "python",
   "pygments_lexer": "ipython3",
   "version": "3.11.3"
  }
 },
 "nbformat": 4,
 "nbformat_minor": 5
}
